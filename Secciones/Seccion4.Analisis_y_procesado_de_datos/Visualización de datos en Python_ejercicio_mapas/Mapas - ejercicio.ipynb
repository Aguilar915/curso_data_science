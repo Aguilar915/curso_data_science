{
 "cells": [
  {
   "cell_type": "markdown",
   "metadata": {},
   "source": [
    "## ¿En que zona ha variado más la población en España en los últimos 10 años?\n",
    "\n",
    "Este ejercicio consiste en hacer un mapa por provincias de España mostrando el porcentaje de variación de población en cada provincia en los últimos 10 años (período 2007-2017).\n",
    "\n",
    "Para ello hay que hacer los siguentes pasos.\n",
    "\n",
    "1. Obtener información. Una manera es ir al INE a la seccion [\"Cifras oficiales de población resultantes de la revisión del Padrón municipal a 1 de enero\"](http://www.ine.es/jaxiT3/Tabla.htm?t=2852). Otra manera es usar el archivo excel incluido en la carpeta data (pero eso es hacer trampa ;) ).\n",
    "\n",
    "2. Procesar información. Tenemos que asegurarnos de que los nombres de provincias del INE coinciden con los nombres del archivo geojson (el archivo se llama \"provincias_espana.geojson\" y está en la carpeta data)\n",
    "\n",
    "3. Calcular el porcentaje de crecimiento de población entre 2017 y 2007\n",
    "\n",
    "4. Dibujar el mapa"
   ]
  },
  {
   "cell_type": "code",
   "execution_count": 1,
   "metadata": {},
   "outputs": [
    {
     "name": "stdout",
     "output_type": "stream",
     "text": [
      "\u001b[0m\u001b[01;32mdatos_misteriosos.csv\u001b[0m*  \u001b[01;32mpoblacion_espana.xls\u001b[0m*  \u001b[01;32mprovincias_espana.geojson\u001b[0m*\r\n"
     ]
    }
   ],
   "source": [
    "%ls data"
   ]
  },
  {
   "cell_type": "code",
   "execution_count": null,
   "metadata": {},
   "outputs": [],
   "source": []
  }
 ],
 "metadata": {
  "kernelspec": {
   "display_name": "Python 3",
   "language": "python",
   "name": "python3"
  },
  "language_info": {
   "codemirror_mode": {
    "name": "ipython",
    "version": 3
   },
   "file_extension": ".py",
   "mimetype": "text/x-python",
   "name": "python",
   "nbconvert_exporter": "python",
   "pygments_lexer": "ipython3",
   "version": "3.6.4"
  }
 },
 "nbformat": 4,
 "nbformat_minor": 2
}
