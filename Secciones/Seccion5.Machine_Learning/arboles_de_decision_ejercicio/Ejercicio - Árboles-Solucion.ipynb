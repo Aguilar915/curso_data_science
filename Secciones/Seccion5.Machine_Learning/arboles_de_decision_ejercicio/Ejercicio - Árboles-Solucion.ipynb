{
 "cells": [
  {
   "cell_type": "markdown",
   "metadata": {},
   "source": [
    "### Cargamos los datos"
   ]
  },
  {
   "cell_type": "code",
   "execution_count": 47,
   "metadata": {},
   "outputs": [
    {
     "data": {
      "text/html": [
       "<div>\n",
       "<style scoped>\n",
       "    .dataframe tbody tr th:only-of-type {\n",
       "        vertical-align: middle;\n",
       "    }\n",
       "\n",
       "    .dataframe tbody tr th {\n",
       "        vertical-align: top;\n",
       "    }\n",
       "\n",
       "    .dataframe thead th {\n",
       "        text-align: right;\n",
       "    }\n",
       "</style>\n",
       "<table border=\"1\" class=\"dataframe\">\n",
       "  <thead>\n",
       "    <tr style=\"text-align: right;\">\n",
       "      <th></th>\n",
       "      <th>presupuesto</th>\n",
       "      <th>genero</th>\n",
       "      <th>lenguaje</th>\n",
       "      <th>popularidad</th>\n",
       "      <th>productores</th>\n",
       "      <th>pais</th>\n",
       "      <th>ventas</th>\n",
       "      <th>duracion</th>\n",
       "      <th>puntuacion</th>\n",
       "      <th>n_votos</th>\n",
       "    </tr>\n",
       "  </thead>\n",
       "  <tbody>\n",
       "    <tr>\n",
       "      <th>0</th>\n",
       "      <td>NaN</td>\n",
       "      <td>Comedy</td>\n",
       "      <td>en</td>\n",
       "      <td>8.387519</td>\n",
       "      <td>Sandollar Productions</td>\n",
       "      <td>United States of America</td>\n",
       "      <td>76578911.0</td>\n",
       "      <td>106.0</td>\n",
       "      <td>5.7</td>\n",
       "      <td>173.0</td>\n",
       "    </tr>\n",
       "    <tr>\n",
       "      <th>1</th>\n",
       "      <td>NaN</td>\n",
       "      <td>Drama</td>\n",
       "      <td>en</td>\n",
       "      <td>0.894647</td>\n",
       "      <td>Miramax</td>\n",
       "      <td>South Africa</td>\n",
       "      <td>676525.0</td>\n",
       "      <td>106.0</td>\n",
       "      <td>6.7</td>\n",
       "      <td>13.0</td>\n",
       "    </tr>\n",
       "    <tr>\n",
       "      <th>2</th>\n",
       "      <td>3500000.0</td>\n",
       "      <td>Comedy</td>\n",
       "      <td>en</td>\n",
       "      <td>14.569650</td>\n",
       "      <td>New Line Cinema</td>\n",
       "      <td>United States of America</td>\n",
       "      <td>28215918.0</td>\n",
       "      <td>91.0</td>\n",
       "      <td>7.0</td>\n",
       "      <td>513.0</td>\n",
       "    </tr>\n",
       "    <tr>\n",
       "      <th>3</th>\n",
       "      <td>NaN</td>\n",
       "      <td>Comedy</td>\n",
       "      <td>en</td>\n",
       "      <td>8.963037</td>\n",
       "      <td>Paramount Pictures</td>\n",
       "      <td>United States of America</td>\n",
       "      <td>32.0</td>\n",
       "      <td>87.0</td>\n",
       "      <td>6.0</td>\n",
       "      <td>124.0</td>\n",
       "    </tr>\n",
       "    <tr>\n",
       "      <th>4</th>\n",
       "      <td>12000000.0</td>\n",
       "      <td>Comedy</td>\n",
       "      <td>en</td>\n",
       "      <td>9.592265</td>\n",
       "      <td>Universal Pictures</td>\n",
       "      <td>United States of America</td>\n",
       "      <td>41205099.0</td>\n",
       "      <td>92.0</td>\n",
       "      <td>6.5</td>\n",
       "      <td>767.0</td>\n",
       "    </tr>\n",
       "  </tbody>\n",
       "</table>\n",
       "</div>"
      ],
      "text/plain": [
       "   presupuesto  genero lenguaje  popularidad            productores  \\\n",
       "0          NaN  Comedy       en     8.387519  Sandollar Productions   \n",
       "1          NaN   Drama       en     0.894647                Miramax   \n",
       "2    3500000.0  Comedy       en    14.569650        New Line Cinema   \n",
       "3          NaN  Comedy       en     8.963037     Paramount Pictures   \n",
       "4   12000000.0  Comedy       en     9.592265     Universal Pictures   \n",
       "\n",
       "                       pais      ventas  duracion  puntuacion  n_votos  \n",
       "0  United States of America  76578911.0     106.0         5.7    173.0  \n",
       "1              South Africa    676525.0     106.0         6.7     13.0  \n",
       "2  United States of America  28215918.0      91.0         7.0    513.0  \n",
       "3  United States of America        32.0      87.0         6.0    124.0  \n",
       "4  United States of America  41205099.0      92.0         6.5    767.0  "
      ]
     },
     "execution_count": 47,
     "metadata": {},
     "output_type": "execute_result"
    }
   ],
   "source": [
    "import pandas as pd\n",
    "import numpy as np\n",
    "from sklearn.preprocessing import Imputer\n",
    "from category_encoders import BinaryEncoder\n",
    "\n",
    "pelis = pd.read_csv(\"data/movies.csv\").drop(columns=[\"titulo\"])\n",
    "variable_objetivo = \"ventas\"\n",
    "\n",
    "# hay peliculas sin la variable ventas\n",
    "pelis = pelis[pelis[variable_objetivo].notnull()]\n",
    "\n",
    "variables_independientes = pelis.drop(variable_objetivo, axis=1).columns\n",
    "\n",
    "\n",
    "pelis.head()"
   ]
  },
  {
   "cell_type": "code",
   "execution_count": 48,
   "metadata": {},
   "outputs": [
    {
     "data": {
      "text/plain": [
       "(1203, 10)"
      ]
     },
     "execution_count": 48,
     "metadata": {},
     "output_type": "execute_result"
    }
   ],
   "source": [
    "pelis.shape"
   ]
  },
  {
   "cell_type": "code",
   "execution_count": 49,
   "metadata": {},
   "outputs": [
    {
     "data": {
      "text/html": [
       "<div>\n",
       "<style scoped>\n",
       "    .dataframe tbody tr th:only-of-type {\n",
       "        vertical-align: middle;\n",
       "    }\n",
       "\n",
       "    .dataframe tbody tr th {\n",
       "        vertical-align: top;\n",
       "    }\n",
       "\n",
       "    .dataframe thead th {\n",
       "        text-align: right;\n",
       "    }\n",
       "</style>\n",
       "<table border=\"1\" class=\"dataframe\">\n",
       "  <thead>\n",
       "    <tr style=\"text-align: right;\">\n",
       "      <th></th>\n",
       "      <th>genero_0</th>\n",
       "      <th>genero_1</th>\n",
       "      <th>genero_2</th>\n",
       "      <th>genero_3</th>\n",
       "      <th>genero_4</th>\n",
       "      <th>lenguaje_0</th>\n",
       "      <th>lenguaje_1</th>\n",
       "      <th>lenguaje_2</th>\n",
       "      <th>lenguaje_3</th>\n",
       "      <th>lenguaje_4</th>\n",
       "      <th>...</th>\n",
       "      <th>pais_2</th>\n",
       "      <th>pais_3</th>\n",
       "      <th>pais_4</th>\n",
       "      <th>pais_5</th>\n",
       "      <th>presupuesto</th>\n",
       "      <th>popularidad</th>\n",
       "      <th>ventas</th>\n",
       "      <th>duracion</th>\n",
       "      <th>puntuacion</th>\n",
       "      <th>n_votos</th>\n",
       "    </tr>\n",
       "  </thead>\n",
       "  <tbody>\n",
       "    <tr>\n",
       "      <th>0</th>\n",
       "      <td>0.0</td>\n",
       "      <td>0.0</td>\n",
       "      <td>0.0</td>\n",
       "      <td>0.0</td>\n",
       "      <td>0.0</td>\n",
       "      <td>0</td>\n",
       "      <td>0</td>\n",
       "      <td>0</td>\n",
       "      <td>0</td>\n",
       "      <td>0</td>\n",
       "      <td>...</td>\n",
       "      <td>0.0</td>\n",
       "      <td>0.0</td>\n",
       "      <td>0.0</td>\n",
       "      <td>0.0</td>\n",
       "      <td>NaN</td>\n",
       "      <td>8.387519</td>\n",
       "      <td>76578911.0</td>\n",
       "      <td>106.0</td>\n",
       "      <td>5.7</td>\n",
       "      <td>173.0</td>\n",
       "    </tr>\n",
       "    <tr>\n",
       "      <th>1</th>\n",
       "      <td>0.0</td>\n",
       "      <td>0.0</td>\n",
       "      <td>0.0</td>\n",
       "      <td>0.0</td>\n",
       "      <td>1.0</td>\n",
       "      <td>0</td>\n",
       "      <td>0</td>\n",
       "      <td>0</td>\n",
       "      <td>0</td>\n",
       "      <td>0</td>\n",
       "      <td>...</td>\n",
       "      <td>0.0</td>\n",
       "      <td>0.0</td>\n",
       "      <td>0.0</td>\n",
       "      <td>1.0</td>\n",
       "      <td>NaN</td>\n",
       "      <td>0.894647</td>\n",
       "      <td>676525.0</td>\n",
       "      <td>106.0</td>\n",
       "      <td>6.7</td>\n",
       "      <td>13.0</td>\n",
       "    </tr>\n",
       "    <tr>\n",
       "      <th>2</th>\n",
       "      <td>0.0</td>\n",
       "      <td>0.0</td>\n",
       "      <td>0.0</td>\n",
       "      <td>0.0</td>\n",
       "      <td>0.0</td>\n",
       "      <td>0</td>\n",
       "      <td>0</td>\n",
       "      <td>0</td>\n",
       "      <td>0</td>\n",
       "      <td>0</td>\n",
       "      <td>...</td>\n",
       "      <td>0.0</td>\n",
       "      <td>0.0</td>\n",
       "      <td>0.0</td>\n",
       "      <td>0.0</td>\n",
       "      <td>3500000.0</td>\n",
       "      <td>14.569650</td>\n",
       "      <td>28215918.0</td>\n",
       "      <td>91.0</td>\n",
       "      <td>7.0</td>\n",
       "      <td>513.0</td>\n",
       "    </tr>\n",
       "    <tr>\n",
       "      <th>3</th>\n",
       "      <td>0.0</td>\n",
       "      <td>0.0</td>\n",
       "      <td>0.0</td>\n",
       "      <td>0.0</td>\n",
       "      <td>0.0</td>\n",
       "      <td>0</td>\n",
       "      <td>0</td>\n",
       "      <td>0</td>\n",
       "      <td>0</td>\n",
       "      <td>0</td>\n",
       "      <td>...</td>\n",
       "      <td>0.0</td>\n",
       "      <td>0.0</td>\n",
       "      <td>0.0</td>\n",
       "      <td>0.0</td>\n",
       "      <td>NaN</td>\n",
       "      <td>8.963037</td>\n",
       "      <td>32.0</td>\n",
       "      <td>87.0</td>\n",
       "      <td>6.0</td>\n",
       "      <td>124.0</td>\n",
       "    </tr>\n",
       "    <tr>\n",
       "      <th>4</th>\n",
       "      <td>0.0</td>\n",
       "      <td>0.0</td>\n",
       "      <td>0.0</td>\n",
       "      <td>0.0</td>\n",
       "      <td>0.0</td>\n",
       "      <td>0</td>\n",
       "      <td>0</td>\n",
       "      <td>0</td>\n",
       "      <td>0</td>\n",
       "      <td>0</td>\n",
       "      <td>...</td>\n",
       "      <td>0.0</td>\n",
       "      <td>0.0</td>\n",
       "      <td>0.0</td>\n",
       "      <td>0.0</td>\n",
       "      <td>12000000.0</td>\n",
       "      <td>9.592265</td>\n",
       "      <td>41205099.0</td>\n",
       "      <td>92.0</td>\n",
       "      <td>6.5</td>\n",
       "      <td>767.0</td>\n",
       "    </tr>\n",
       "  </tbody>\n",
       "</table>\n",
       "<p>5 rows × 32 columns</p>\n",
       "</div>"
      ],
      "text/plain": [
       "   genero_0  genero_1  genero_2  genero_3  genero_4  lenguaje_0  lenguaje_1  \\\n",
       "0       0.0       0.0       0.0       0.0       0.0           0           0   \n",
       "1       0.0       0.0       0.0       0.0       1.0           0           0   \n",
       "2       0.0       0.0       0.0       0.0       0.0           0           0   \n",
       "3       0.0       0.0       0.0       0.0       0.0           0           0   \n",
       "4       0.0       0.0       0.0       0.0       0.0           0           0   \n",
       "\n",
       "   lenguaje_2  lenguaje_3  lenguaje_4   ...     pais_2  pais_3  pais_4  \\\n",
       "0           0           0           0   ...        0.0     0.0     0.0   \n",
       "1           0           0           0   ...        0.0     0.0     0.0   \n",
       "2           0           0           0   ...        0.0     0.0     0.0   \n",
       "3           0           0           0   ...        0.0     0.0     0.0   \n",
       "4           0           0           0   ...        0.0     0.0     0.0   \n",
       "\n",
       "   pais_5  presupuesto  popularidad      ventas  duracion  puntuacion  n_votos  \n",
       "0     0.0          NaN     8.387519  76578911.0     106.0         5.7    173.0  \n",
       "1     1.0          NaN     0.894647    676525.0     106.0         6.7     13.0  \n",
       "2     0.0    3500000.0    14.569650  28215918.0      91.0         7.0    513.0  \n",
       "3     0.0          NaN     8.963037        32.0      87.0         6.0    124.0  \n",
       "4     0.0   12000000.0     9.592265  41205099.0      92.0         6.5    767.0  \n",
       "\n",
       "[5 rows x 32 columns]"
      ]
     },
     "execution_count": 49,
     "metadata": {},
     "output_type": "execute_result"
    }
   ],
   "source": [
    "pelis = BinaryEncoder().fit_transform(pelis)\n",
    "pelis.head()"
   ]
  },
  {
   "cell_type": "code",
   "execution_count": 50,
   "metadata": {},
   "outputs": [],
   "source": [
    "X = Imputer(strategy=\"mean\").fit_transform(pelis.drop(variable_objetivo, axis=1))\n",
    "y = pelis[variable_objetivo]"
   ]
  },
  {
   "cell_type": "code",
   "execution_count": 51,
   "metadata": {},
   "outputs": [
    {
     "data": {
      "text/plain": [
       "Index(['presupuesto', 'genero', 'lenguaje', 'popularidad', 'productores',\n",
       "       'pais', 'duracion', 'puntuacion', 'n_votos'],\n",
       "      dtype='object')"
      ]
     },
     "execution_count": 51,
     "metadata": {},
     "output_type": "execute_result"
    }
   ],
   "source": [
    "variables_independientes"
   ]
  },
  {
   "cell_type": "code",
   "execution_count": 52,
   "metadata": {},
   "outputs": [],
   "source": [
    "variables_arbol = pelis.drop(variable_objetivo, axis=1).columns"
   ]
  },
  {
   "cell_type": "code",
   "execution_count": 53,
   "metadata": {},
   "outputs": [
    {
     "data": {
      "text/plain": [
       "Index(['genero_0', 'genero_1', 'genero_2', 'genero_3', 'genero_4',\n",
       "       'lenguaje_0', 'lenguaje_1', 'lenguaje_2', 'lenguaje_3', 'lenguaje_4',\n",
       "       'productores_0', 'productores_1', 'productores_2', 'productores_3',\n",
       "       'productores_4', 'productores_5', 'productores_6', 'productores_7',\n",
       "       'productores_8', 'productores_9', 'pais_0', 'pais_1', 'pais_2',\n",
       "       'pais_3', 'pais_4', 'pais_5', 'presupuesto', 'popularidad', 'duracion',\n",
       "       'puntuacion', 'n_votos'],\n",
       "      dtype='object')"
      ]
     },
     "execution_count": 53,
     "metadata": {},
     "output_type": "execute_result"
    }
   ],
   "source": [
    "variables_arbol"
   ]
  },
  {
   "cell_type": "markdown",
   "metadata": {},
   "source": [
    "### Crear un modelo Arbol de Decision de profundidad máxima 5, entrenar y obtener imagen del arbol usando webgraphviz"
   ]
  },
  {
   "cell_type": "code",
   "execution_count": 54,
   "metadata": {},
   "outputs": [
    {
     "data": {
      "text/plain": [
       "'ventas'"
      ]
     },
     "execution_count": 54,
     "metadata": {},
     "output_type": "execute_result"
    }
   ],
   "source": [
    "variable_objetivo"
   ]
  },
  {
   "cell_type": "code",
   "execution_count": 55,
   "metadata": {},
   "outputs": [],
   "source": [
    "from sklearn import tree\n",
    "\n",
    "arbol = tree.DecisionTreeRegressor(max_depth=5).fit(X, y)"
   ]
  },
  {
   "cell_type": "code",
   "execution_count": 56,
   "metadata": {},
   "outputs": [],
   "source": [
    "tree.export_graphviz(arbol, out_file=\"arbol.dot\", filled=True,\n",
    "            feature_names=variables_arbol\n",
    ")"
   ]
  },
  {
   "cell_type": "markdown",
   "metadata": {},
   "source": [
    "###  Cuales son las las variables más importantes para el modelo?"
   ]
  },
  {
   "cell_type": "code",
   "execution_count": 57,
   "metadata": {},
   "outputs": [
    {
     "data": {
      "text/plain": [
       "array([0.        , 0.00513785, 0.        , 0.        , 0.00116165,\n",
       "       0.        , 0.        , 0.        , 0.        , 0.        ,\n",
       "       0.        , 0.        , 0.        , 0.        , 0.        ,\n",
       "       0.        , 0.01505951, 0.02335171, 0.        , 0.        ,\n",
       "       0.        , 0.        , 0.        , 0.        , 0.        ,\n",
       "       0.        , 0.16057297, 0.01258194, 0.0211535 , 0.00451985,\n",
       "       0.75646102])"
      ]
     },
     "execution_count": 57,
     "metadata": {},
     "output_type": "execute_result"
    }
   ],
   "source": [
    "arbol.feature_importances_"
   ]
  },
  {
   "cell_type": "code",
   "execution_count": 58,
   "metadata": {},
   "outputs": [
    {
     "data": {
      "text/plain": [
       "Index(['genero_0', 'genero_1', 'genero_2', 'genero_3', 'genero_4',\n",
       "       'lenguaje_0', 'lenguaje_1', 'lenguaje_2', 'lenguaje_3', 'lenguaje_4',\n",
       "       'productores_0', 'productores_1', 'productores_2', 'productores_3',\n",
       "       'productores_4', 'productores_5', 'productores_6', 'productores_7',\n",
       "       'productores_8', 'productores_9', 'pais_0', 'pais_1', 'pais_2',\n",
       "       'pais_3', 'pais_4', 'pais_5', 'presupuesto', 'popularidad', 'duracion',\n",
       "       'puntuacion', 'n_votos'],\n",
       "      dtype='object')"
      ]
     },
     "execution_count": 58,
     "metadata": {},
     "output_type": "execute_result"
    }
   ],
   "source": [
    "variables_arbol"
   ]
  },
  {
   "cell_type": "code",
   "execution_count": 59,
   "metadata": {},
   "outputs": [
    {
     "data": {
      "text/plain": [
       "[(0.0, 'genero_0'),\n",
       " (0.0, 'genero_2'),\n",
       " (0.0, 'genero_3'),\n",
       " (0.0, 'lenguaje_0'),\n",
       " (0.0, 'lenguaje_1'),\n",
       " (0.0, 'lenguaje_2'),\n",
       " (0.0, 'lenguaje_3'),\n",
       " (0.0, 'lenguaje_4'),\n",
       " (0.0, 'pais_0'),\n",
       " (0.0, 'pais_1'),\n",
       " (0.0, 'pais_2'),\n",
       " (0.0, 'pais_3'),\n",
       " (0.0, 'pais_4'),\n",
       " (0.0, 'pais_5'),\n",
       " (0.0, 'productores_0'),\n",
       " (0.0, 'productores_1'),\n",
       " (0.0, 'productores_2'),\n",
       " (0.0, 'productores_3'),\n",
       " (0.0, 'productores_4'),\n",
       " (0.0, 'productores_5'),\n",
       " (0.0, 'productores_8'),\n",
       " (0.0, 'productores_9'),\n",
       " (0.001161654993724173, 'genero_4'),\n",
       " (0.004519854367145865, 'puntuacion'),\n",
       " (0.005137845503020267, 'genero_1'),\n",
       " (0.012581937049572696, 'popularidad'),\n",
       " (0.015059508009177188, 'productores_6'),\n",
       " (0.02115350241638659, 'duracion'),\n",
       " (0.023351705857555995, 'productores_7'),\n",
       " (0.16057297002894505, 'presupuesto'),\n",
       " (0.7564610217744722, 'n_votos')]"
      ]
     },
     "execution_count": 59,
     "metadata": {},
     "output_type": "execute_result"
    }
   ],
   "source": [
    "sorted(zip(arbol.feature_importances_,\n",
    "           variables_arbol))"
   ]
  },
  {
   "cell_type": "code",
   "execution_count": null,
   "metadata": {
    "collapsed": true
   },
   "outputs": [],
   "source": []
  }
 ],
 "metadata": {
  "kernelspec": {
   "display_name": "Python 3",
   "language": "python",
   "name": "python3"
  },
  "language_info": {
   "codemirror_mode": {
    "name": "ipython",
    "version": 3
   },
   "file_extension": ".py",
   "mimetype": "text/x-python",
   "name": "python",
   "nbconvert_exporter": "python",
   "pygments_lexer": "ipython3",
   "version": "3.6.4"
  }
 },
 "nbformat": 4,
 "nbformat_minor": 2
}
